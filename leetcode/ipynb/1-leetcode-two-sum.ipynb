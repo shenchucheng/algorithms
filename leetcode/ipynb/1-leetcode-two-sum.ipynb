{
 "cells": [
  {
   "cell_type": "markdown",
   "metadata": {},
   "source": [
    "\n",
    "# **1.**\n",
    "\n",
    "------\n",
    "\n",
    "## **中文版**\n",
    "### [**两数之和**](https://leetcode-cn.com/problems/two-sum/)\n",
    "\n",
    "- **难度：** 简单\n",
    "- **标签：** 数组、哈希表\n",
    "- **相似题目：** [*三数之和*](https://leetcode-cn.com/problems/3sum/)、[*四数之和*](https://leetcode-cn.com/problems/4sum/)、[*两数之和 II - 输入有序数组*](https://leetcode-cn.com/problems/two-sum-ii-input-array-is-sorted/)、[*两数之和 III - 数据结构设计*](https://leetcode-cn.com/problems/two-sum-iii-data-structure-design/)、[*和为K的子数组*](https://leetcode-cn.com/problems/subarray-sum-equals-k/)、[*两数之和 IV - 输入 BST*](https://leetcode-cn.com/problems/two-sum-iv-input-is-a-bst/)、[*小于 K 的两数之和*](https://leetcode-cn.com/problems/two-sum-less-than-k/)\n",
    "\n",
    "\n",
    "### **题目：**\n",
    "\n",
    "给定一个整数数组 nums 和一个目标值 target，请你在该数组中找出和为目标值的那 **两个** 整数，并返回他们的数组下标。\n",
    "\n",
    " 你可以假设每种输入只会对应一个答案。但是，数组中同一个元素不能使用两遍。\n",
    "\n",
    "  \n",
    "\n",
    " **示例:**\n",
    "\n",
    " 给定 nums = \\[2, 7, 11, 15\\], target = 9 因为 nums\\[**0**\\] + nums\\[**1**\\] = 2 + 7 = 9 所以返回 \\[**0, 1**\\]  \n",
    "\n",
    "\n",
    "------\n",
    "\n",
    "\n",
    "## **English**\n",
    "### [**Two Sum**](https://leetcode-cn.com/problems/two-sum/)\n",
    "\n",
    "- **Difficulty:** Easy\n",
    "- **Topic Tag:** Array; Hash Table\n",
    "- **Similar Questions:** [*3Sum*](https://leetcode-cn.com/problems/3sum/); [*4Sum*](https://leetcode-cn.com/problems/4sum/); [*Two Sum II - Input array is sorted*](https://leetcode-cn.com/problems/two-sum-ii-input-array-is-sorted/); [*Two Sum III - Data structure design*](https://leetcode-cn.com/problems/two-sum-iii-data-structure-design/); [*Subarray Sum Equals K*](https://leetcode-cn.com/problems/subarray-sum-equals-k/); [*Two Sum IV - Input is a BST*](https://leetcode-cn.com/problems/two-sum-iv-input-is-a-bst/); [*Two Sum Less Than K*](https://leetcode-cn.com/problems/two-sum-less-than-k/)\n",
    "\n",
    "### **Content**\n",
    "\n",
    "Given an array of integers nums and an integer target, return *indices of the two numbers such that they add up to target*.\n",
    "\n",
    " You may assume that each input would have ***exactly* one solution**, and you may not use the *same* element twice.\n",
    "\n",
    " You can return the answer in any order.\n",
    "\n",
    "  \n",
    "\n",
    " **Example 1:**\n",
    "\n",
    "  **Input:** nums = \\[2,7,11,15\\], target = 9 **Output:** \\[0,1\\] **Output:** Because nums\\[0\\] + nums\\[1\\] == 9, we return \\[0, 1\\].  **Example 2:**\n",
    "\n",
    "  **Input:** nums = \\[3,2,4\\], target = 6 **Output:** \\[1,2\\]  **Example 3:**\n",
    "\n",
    "  **Input:** nums = \\[3,3\\], target = 6 **Output:** \\[0,1\\]   \n",
    "\n",
    " **Constraints:**\n",
    "\n",
    " \n",
    " * 2 <= nums.length <= 105\n",
    " * -109 <= nums\\[i\\] <= 109\n",
    " * -109 <= target <= 109\n",
    " * **Only one valid answer exists.**\n",
    " \n",
    " \n",
    "\n",
    "\n",
    "------\n",
    "\n",
    "\n",
    "- **来源：** 力扣（LeetCode）\n",
    "- **链接：** [两数之和](https://leetcode-cn.com/problems/two-sum/)\n",
    "- 著作权归领扣网络所有。商业转载请联系官方授权，非商业转载请注明出处。\n"
   ]
  },
  {
   "cell_type": "code",
   "execution_count": 1,
   "metadata": {},
   "outputs": [],
   "source": [
    "from typing import List, Dict, Tuple\n",
    "\n",
    "\n",
    "class Solution:\n",
    "    def twoSum(self, nums: List[int], target: int) -> List[int]:\n",
    "        nums = [i for i in enumerate(nums)]\n",
    "        nums.sort(key = lambda x: x[1])\n",
    "        l = len(nums) - 1\n",
    "        nmax = nums[-1][1]\n",
    "        for i in range(l):\n",
    "            ni = nums[i][1]\n",
    "            if i > 0 and ni == pre:\n",
    "                continue\n",
    "            t = target - ni\n",
    "            if t > nmax:\n",
    "                pre = ni\n",
    "                continue\n",
    "            j = l\n",
    "            while j > i:\n",
    "                if t == nums[j][1]:\n",
    "                    return [nums[i][0], nums[j][0]]\n",
    "                j -= 1\n",
    "            pre = ni"
   ]
  },
  {
   "cell_type": "markdown",
   "metadata": {},
   "source": []
  },
  {
   "cell_type": "code",
   "execution_count": 1,
   "metadata": {},
   "outputs": [
    {
     "data": {
      "text/plain": [
       "('/home/cheng/py3p/algorithms/leetcode', 'ipynb')"
      ]
     },
     "execution_count": 1,
     "metadata": {},
     "output_type": "execute_result"
    }
   ],
   "source": [
    "import os\n",
    "os.path.split(os.path.abspath('.'))"
   ]
  },
  {
   "cell_type": "code",
   "execution_count": null,
   "metadata": {},
   "outputs": [],
   "source": []
  }
 ],
 "metadata": {
  "kernelspec": {
   "display_name": "Python 3",
   "language": "python",
   "name": "python3"
  },
  "language_info": {
   "codemirror_mode": {
    "name": "ipython",
    "version": 3
   },
   "file_extension": ".py",
   "mimetype": "text/x-python",
   "name": "python",
   "nbconvert_exporter": "python",
   "pygments_lexer": "ipython3",
   "version": "3.8.2"
  }
 },
 "nbformat": 4,
 "nbformat_minor": 4
}
