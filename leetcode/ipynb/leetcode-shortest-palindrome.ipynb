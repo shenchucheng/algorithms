{
 "cells": [
  {
   "cell_type": "markdown",
   "metadata": {},
   "source": [
    "# 214. 最短回文串\n",
    "\n",
    "**难度：困难**\n",
    "\n",
    "给定一个字符串 s，你可以通过在字符串前面添加字符将其转换为回文串。找到并返回可以用这种方式转换的最短回文串。\n",
    "\n",
    "- 示例 1:\n",
    "\n",
    "```\n",
    "    输入: \"aacecaaa\"\n",
    "    输出: \"aaacecaaa\"\n",
    "```\n",
    "\n",
    "- 示例 2:\n",
    "\n",
    "```\n",
    "    输入: \"abcd\"\n",
    "    输出: \"dcbabcd\"\n",
    "```\n"
   ]
  },
  {
   "cell_type": "code",
   "execution_count": 1,
   "metadata": {},
   "outputs": [],
   "source": [
    "class Solution:\n",
    "    def shortestPalindrome(self, s: str) -> str:\n",
    "        def mkPalindrome_1(s, center):\n",
    "            if s[:center] == s[center+1:2*center+1][::-1]:\n",
    "                return s[2*center+1:][::-1] + s\n",
    "            return mkPalindrome_2(s, center-1)\n",
    "\n",
    "        def mkPalindrome_2(s, center):\n",
    "            if s[:center+1] == s[center+1:2*center+2][::-1]:\n",
    "                return s[2*center+2:][::-1] + s\n",
    "            return mkPalindrome_1(s, center)\n",
    "        a, b = divmod(len(s), 2)\n",
    "        if b:\n",
    "            return mkPalindrome_1(s, a)\n",
    "        else:\n",
    "            return mkPalindrome_2(s, a-1)\n"
   ]
  },
  {
   "cell_type": "code",
   "execution_count": null,
   "metadata": {},
   "outputs": [],
   "source": [
    "class Solution:\n",
    "    def shortestPalindrome(self, s: str) -> str:\n",
    "        reverse = s[::-1]\n",
    "        for i in range(len(s) + 1):\n",
    "            if s.startswith(reverse[i:]):\n",
    "                return reverse[:i] + s\n",
    "'''\n",
    "作者：JamLeon\n",
    "链接：https://leetcode-cn.com/problems/shortest-palindrome/solution/si-lu-jian-dan-xing-neng-gao-xiao-da-dao-100-by--2/\n",
    "来源：力扣（LeetCode）\n",
    "'''"
   ]
  }
 ],
 "metadata": {
  "kernelspec": {
   "display_name": "Python 3",
   "language": "python",
   "name": "python3"
  },
  "language_info": {
   "codemirror_mode": {
    "name": "ipython",
    "version": 3
   },
   "file_extension": ".py",
   "mimetype": "text/x-python",
   "name": "python",
   "nbconvert_exporter": "python",
   "pygments_lexer": "ipython3",
   "version": "3.7.3"
  }
 },
 "nbformat": 4,
 "nbformat_minor": 4
}
