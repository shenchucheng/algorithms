{
 "cells": [
  {
   "cell_type": "markdown",
   "metadata": {},
   "source": [
    "\n",
    "# **685.**\n",
    "\n",
    "------\n",
    "\n",
    "## **中文版**\n",
    "### [**冗余连接 II**](https://leetcode-cn.com/problems/redundant-connection-ii/)\n",
    "\n",
    "- **难度：** 复杂\n",
    "- **标签：** 树、深度优先搜索、并查集、图\n",
    "- **相似题目：** [*冗余连接*](https://leetcode-cn.com/problems/redundant-connection/)\n",
    "\n",
    "\n",
    "### **题目：**\n",
    "\n",
    "在本问题中，有根树指满足以下条件的**有向**图。该树只有一个根节点，所有其他节点都是该根节点的后继。每一个节点只有一个父节点，除了根节点没有父节点。\n",
    "\n",
    " 输入一个有向图，该图由一个有着N个节点 (节点值不重复1, 2, ..., N) 的树及一条附加的边构成。附加的边的两个顶点包含在1到N中间，这条附加的边不属于树中已存在的边。\n",
    "\n",
    " 结果图是一个以边组成的二维数组。 每一个边 的元素是一对 \\[u, v\\]，用以表示**有向**图中连接顶点 u 和顶点 v 的边，其中 u 是 v 的一个父节点。\n",
    "\n",
    " 返回一条能删除的边，使得剩下的图是有N个节点的有根树。若有多个答案，返回最后出现在给定二维数组的答案。\n",
    "\n",
    " **示例 1:**\n",
    "\n",
    " **输入:** \\[\\[1,2\\], \\[1,3\\], \\[2,3\\]\\] **输出:** \\[2,3\\] **解释:** 给定的有向图如下: 1 / \\ v v 2-->3  **示例 2:**\n",
    "\n",
    " **输入:** \\[\\[1,2\\], \\[2,3\\], \\[3,4\\], \\[4,1\\], \\[1,5\\]\\] **输出:** \\[4,1\\] **解释:** 给定的有向图如下: 5 <- 1 -> 2 ^ | | v 4 <- 3  **注意:**\n",
    "\n",
    " \n",
    " * 二维数组大小的在3到1000范围内。\n",
    " * 二维数组中的每个整数在1到N之间，其中 N 是二维数组的大小。\n",
    " \n",
    " \n",
    "\n",
    "\n",
    "------\n",
    "\n",
    "\n",
    "## **English**\n",
    "### [**Redundant Connection II**](https://leetcode-cn.com/problems/redundant-connection-ii/)\n",
    "\n",
    "- **Difficulty:** Hard\n",
    "- **Topic Tag:** Tree; Depth-first Search; Union Find; Graph\n",
    "- **Similar Questions:** [*Redundant Connection*](https://leetcode-cn.com/problems/redundant-connection/)\n",
    "\n",
    "### **Content**\n",
    "\n",
    " In this problem, a rooted tree is a **directed** graph such that, there is exactly one node (the root) for which all other nodes are descendants of this node, plus every node has exactly one parent, except for the root node which has no parents. \n",
    "\n",
    " The given input is a directed graph that started as a rooted tree with N nodes (with distinct values 1, 2, ..., N), with one additional directed edge added. The added edge has two different vertices chosen from 1 to N, and was not an edge that already existed. \n",
    "\n",
    " The resulting graph is given as a 2D-array of edges. Each element of edges is a pair \\[u, v\\] that represents a **directed** edge connecting nodes u and v, where u is a parent of child v. \n",
    "\n",
    " Return an edge that can be removed so that the resulting graph is a rooted tree of N nodes. If there are multiple answers, return the answer that occurs last in the given 2D-array. \n",
    "\n",
    "**Example 1:**  \n",
    "  **Input:** \\[\\[1,2\\], \\[1,3\\], \\[2,3\\]\\] **Output:** \\[2,3\\] **Explanation:** The given directed graph will be like this: 1 / \\ v v 2-->3  \n",
    "\n",
    " **Example 2:**  \n",
    "  **Input:** \\[\\[1,2\\], \\[2,3\\], \\[3,4\\], \\[4,1\\], \\[1,5\\]\\] **Output:** \\[4,1\\] **Explanation:** The given directed graph will be like this: 5 <- 1 -> 2 ^ | | v 4 <- 3  \n",
    "\n",
    " **Note:**  \n",
    " - The size of the input 2D-array will be between 3 and 1000.\n",
    " - Every integer represented in the 2D-array will be between 1 and N, where N is the size of the input array.\n",
    " \n",
    "\n",
    "\n",
    "\n",
    "\n",
    "------\n",
    "\n",
    "\n",
    "- **来源：** 力扣（LeetCode）\n",
    "- **链接：** [冗余连接 II](https://leetcode-cn.com/problems/redundant-connection-ii/)\n",
    "- 著作权归领扣网络所有。商业转载请联系官方授权，非商业转载请注明出处。\n"
   ]
  },
  {
   "cell_type": "code",
   "execution_count": 8,
   "metadata": {},
   "outputs": [
    {
     "data": {
      "text/plain": [
       "[4, 1]"
      ]
     },
     "execution_count": 8,
     "metadata": {},
     "output_type": "execute_result"
    }
   ],
   "source": [
    "from typing import List, Dict, Tuple\n",
    "class UnionFind:\n",
    "    def __init__(self, n):\n",
    "        self.ancestor = list(range(n))\n",
    "    \n",
    "    def union(self, index1: int, index2: int):\n",
    "        self.ancestor[self.find(index1)] = self.find(index2)\n",
    "    \n",
    "    def find(self, index: int) -> int:\n",
    "        if self.ancestor[index] != index:\n",
    "            self.ancestor[index] = self.find(self.ancestor[index])\n",
    "        return self.ancestor[index]\n",
    "\n",
    "class Solution:\n",
    "    def findRedundantDirectedConnection(self, edges: List[List[int]]) -> List[int]:\n",
    "        nodesCount = len(edges)\n",
    "        uf = UnionFind(nodesCount + 1)\n",
    "        parent = list(range(nodesCount + 1))\n",
    "        conflict = -1\n",
    "        cycle = -1\n",
    "        for i, (node1, node2) in enumerate(edges):\n",
    "            if parent[node2] != node2:\n",
    "                conflict = i\n",
    "            else:\n",
    "                parent[node2] = node1\n",
    "                if uf.find(node1) == uf.find(node2):\n",
    "                    cycle = i\n",
    "                else:\n",
    "                    uf.union(node1, node2)\n",
    "\n",
    "        if conflict < 0:\n",
    "            return [edges[cycle][0], edges[cycle][1]]\n",
    "        else:\n",
    "            conflictEdge = edges[conflict]\n",
    "            if cycle >= 0:\n",
    "                return [parent[conflictEdge[1]], conflictEdge[1]]\n",
    "            else:\n",
    "                return [conflictEdge[0], conflictEdge[1]]\n",
    "\n",
    "inp =  [[1,2], [2,3], [3,4], [4,1], [1,5]]\n",
    "a = Solution()\n",
    "a.findRedundantDirectedConnection(inp)"
   ]
  },
  {
   "cell_type": "code",
   "execution_count": 9,
   "metadata": {},
   "outputs": [
    {
     "data": {
      "text/plain": [
       "[2, 3]"
      ]
     },
     "execution_count": 9,
     "metadata": {},
     "output_type": "execute_result"
    }
   ],
   "source": [
    "a.findRedundantDirectedConnection([[1,2], [1,3], [2,3]])"
   ]
  },
  {
   "cell_type": "markdown",
   "metadata": {},
   "source": [
    "- 抄的官方作业\n",
    "- 学习差并集"
   ]
  }
 ],
 "metadata": {
  "kernelspec": {
   "display_name": "Python 3",
   "language": "python",
   "name": "python3"
  },
  "language_info": {
   "codemirror_mode": {
    "name": "ipython",
    "version": 3
   },
   "file_extension": ".py",
   "mimetype": "text/x-python",
   "name": "python",
   "nbconvert_exporter": "python",
   "pygments_lexer": "ipython3",
   "version": "3.8.2"
  }
 },
 "nbformat": 4,
 "nbformat_minor": 4
}
