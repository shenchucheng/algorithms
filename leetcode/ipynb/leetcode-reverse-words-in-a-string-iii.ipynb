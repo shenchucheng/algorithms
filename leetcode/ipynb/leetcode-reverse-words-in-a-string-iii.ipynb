{
 "cells": [
  {
   "cell_type": "markdown",
   "metadata": {},
   "source": [
    "# 557. 反转字符串中的单词 III\n",
    "\n",
    "**难度：简单**\n",
    "\n",
    "    给定一个字符串，你需要反转字符串中每个单词的字符顺序，同时仍保留空格和单词的初始顺序。\n",
    "\n",
    "- 示例： \n",
    "\n",
    "```\n",
    "    输入：\"Let's take LeetCode contest\"\n",
    "    输出：\"s'teL ekat edoCteeL tsetnoc\"\n",
    "```\n",
    " \n",
    "- 提示：\n",
    " \n",
    "```\n",
    "    在字符串中，每个单词由单个空格分隔，并且字符串中不会有任何额外的空格。\n",
    "```"
   ]
  },
  {
   "cell_type": "code",
   "execution_count": null,
   "metadata": {},
   "outputs": [],
   "source": [
    "class Solution:\n",
    "    def reverseWords(self, s: str) -> str:\n",
    "        return ' '.join(map(lambda x: x[::-1], s.split()))"
   ]
  }
 ],
 "metadata": {
  "kernelspec": {
   "display_name": "Python 3",
   "language": "python",
   "name": "python3"
  },
  "language_info": {
   "codemirror_mode": {
    "name": "ipython",
    "version": 3
   },
   "file_extension": ".py",
   "mimetype": "text/x-python",
   "name": "python",
   "nbconvert_exporter": "python",
   "pygments_lexer": "ipython3",
   "version": "3.7.3"
  }
 },
 "nbformat": 4,
 "nbformat_minor": 4
}
