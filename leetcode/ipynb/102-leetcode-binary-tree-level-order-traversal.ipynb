{
 "cells": [
  {
   "cell_type": "markdown",
   "metadata": {},
   "source": [
    "\n",
    "# **102.**\n",
    "\n",
    "------\n",
    "\n",
    "## **中文版**\n",
    "### [**二叉树的层序遍历**](https://leetcode-cn.com/problems/binary-tree-level-order-traversal/)\n",
    "\n",
    "- **难度：** 中等\n",
    "- **标签：** 树、广度优先搜索\n",
    "- **相似题目：** [*二叉树的锯齿形层次遍历*](https://leetcode-cn.com/problems/binary-tree-zigzag-level-order-traversal/)、[*二叉树的层次遍历 II*](https://leetcode-cn.com/problems/binary-tree-level-order-traversal-ii/)、[*二叉树的最小深度*](https://leetcode-cn.com/problems/minimum-depth-of-binary-tree/)、[*二叉树的垂直遍历*](https://leetcode-cn.com/problems/binary-tree-vertical-order-traversal/)、[*二叉树的层平均值*](https://leetcode-cn.com/problems/average-of-levels-in-binary-tree/)、[*N叉树的层序遍历*](https://leetcode-cn.com/problems/n-ary-tree-level-order-traversal/)、[*二叉树的堂兄弟节点*](https://leetcode-cn.com/problems/cousins-in-binary-tree/)\n",
    "\n",
    "\n",
    "### **题目：**\n",
    "\n",
    "给你一个二叉树，请你返回其按 **层序遍历** 得到的节点值。 （即逐层地，从左到右访问所有节点）。\n",
    "\n",
    "  \n",
    "\n",
    " **示例：**  \n",
    " 二叉树：\\[3,9,20,null,null,15,7\\],\n",
    "```\n",
    "  3\n",
    " / \\ \n",
    "9  20 \n",
    "  / \\ \n",
    "15   7  \n",
    "```\n",
    "  返回其层次遍历结果：\n",
    "\n",
    " \\[ \\[3\\], \\[9,20\\], \\[15,7\\] \\]  \n",
    "\n",
    "\n",
    "------\n",
    "\n",
    "\n",
    "## **English**\n",
    "### [**Binary Tree Level Order Traversal**](https://leetcode-cn.com/problems/binary-tree-level-order-traversal/)\n",
    "\n",
    "- **Difficulty:** Medium\n",
    "- **Topic Tag:** Tree; Breadth-first Search\n",
    "- **Similar Questions:** [*Binary Tree Zigzag Level Order Traversal*](https://leetcode-cn.com/problems/binary-tree-zigzag-level-order-traversal/); [*Binary Tree Level Order Traversal II*](https://leetcode-cn.com/problems/binary-tree-level-order-traversal-ii/); [*Minimum Depth of Binary Tree*](https://leetcode-cn.com/problems/minimum-depth-of-binary-tree/); [*Binary Tree Vertical Order Traversal*](https://leetcode-cn.com/problems/binary-tree-vertical-order-traversal/); [*Average of Levels in Binary Tree*](https://leetcode-cn.com/problems/average-of-levels-in-binary-tree/); [*N-ary Tree Level Order Traversal*](https://leetcode-cn.com/problems/n-ary-tree-level-order-traversal/); [*Cousins in Binary Tree*](https://leetcode-cn.com/problems/cousins-in-binary-tree/)\n",
    "\n",
    "### **Content**\n",
    "\n",
    "Given a binary tree, return the *level order* traversal of its nodes' values. (ie, from left to right, level by level).\n",
    "\n",
    "  For example:  \n",
    " Given binary tree \\[3,9,20,null,null,15,7\\],  \n",
    "  3 / \\ 9 20 / \\ 15 7  \n",
    "\n",
    "  return its level order traversal as:  \n",
    "  \\[ \\[3\\], \\[9,20\\], \\[15,7\\] \\]  \n",
    "\n",
    "\n",
    "\n",
    "\n",
    "------\n",
    "\n",
    "\n",
    "- **来源：** 力扣（LeetCode）\n",
    "- **链接：** [二叉树的层序遍历](https://leetcode-cn.com/problems/binary-tree-level-order-traversal/)\n",
    "- 著作权归领扣网络所有。商业转载请联系官方授权，非商业转载请注明出处。\n"
   ]
  },
  {
   "cell_type": "code",
   "execution_count": 3,
   "metadata": {},
   "outputs": [],
   "source": [
    "from typing import List, Dict, Tuple\n",
    "# Definition for a binary tree node.\n",
    "class TreeNode:\n",
    "    def __init__(self, x):\n",
    "        self.val = x\n",
    "        self.left = None\n",
    "        self.right = None\n",
    "\n",
    "class Solution:\n",
    "    def levelOrder(self, root: TreeNode) -> List[List[int]]:\n",
    "        pass "
   ]
  },
  {
   "cell_type": "markdown",
   "metadata": {},
   "source": []
  }
 ],
 "metadata": {
  "kernelspec": {
   "display_name": "Python 3",
   "language": "python",
   "name": "python3"
  },
  "language_info": {
   "codemirror_mode": {
    "name": "ipython",
    "version": 3
   },
   "file_extension": ".py",
   "mimetype": "text/x-python",
   "name": "python",
   "nbconvert_exporter": "python",
   "pygments_lexer": "ipython3",
   "version": "3.8.2"
  }
 },
 "nbformat": 4,
 "nbformat_minor": 4
}
